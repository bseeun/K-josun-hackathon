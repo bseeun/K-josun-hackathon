{
  "cells": [
    {
      "cell_type": "markdown",
      "metadata": {
        "id": "QsrSo-6yeQQj"
      },
      "source": [
        "# 1. 데이터셋 청크 단위로 전처리"
      ]
    },
    {
      "cell_type": "code",
      "execution_count": 4,
      "metadata": {
        "colab": {
          "base_uri": "https://localhost:8080/"
        },
        "collapsed": true,
        "id": "AJ0Otrgu2F5K",
        "outputId": "79e6a8b2-5721-4f5a-c391-a3edf4e6c76d"
      },
      "outputs": [
        {
          "name": "stdout",
          "output_type": "stream",
          "text": [
            "Requirement already satisfied: pymupdf in /usr/local/lib/python3.12/dist-packages (1.26.4)\n",
            "Requirement already satisfied: pandas in /usr/local/lib/python3.12/dist-packages (2.2.2)\n",
            "Requirement already satisfied: tabulate in /usr/local/lib/python3.12/dist-packages (0.9.0)\n",
            "Requirement already satisfied: numpy>=1.26.0 in /usr/local/lib/python3.12/dist-packages (from pandas) (1.26.4)\n",
            "Requirement already satisfied: python-dateutil>=2.8.2 in /usr/local/lib/python3.12/dist-packages (from pandas) (2.9.0.post0)\n",
            "Requirement already satisfied: pytz>=2020.1 in /usr/local/lib/python3.12/dist-packages (from pandas) (2025.2)\n",
            "Requirement already satisfied: tzdata>=2022.7 in /usr/local/lib/python3.12/dist-packages (from pandas) (2025.2)\n",
            "Requirement already satisfied: six>=1.5 in /usr/local/lib/python3.12/dist-packages (from python-dateutil>=2.8.2->pandas) (1.17.0)\n"
          ]
        }
      ],
      "source": [
        "!pip install pymupdf pandas tabulate"
      ]
    },
    {
      "cell_type": "code",
      "execution_count": 5,
      "metadata": {
        "colab": {
          "base_uri": "https://localhost:8080/"
        },
        "id": "pjX4NNsiw98g",
        "outputId": "da88bd1e-6934-4678-feee-b3c1e601b1f6"
      },
      "outputs": [
        {
          "name": "stdout",
          "output_type": "stream",
          "text": [
            "총 27개의 유효한 섹션으로 병합되었습니다.\n",
            "\n",
            "--- 섹션 1 ---\n",
            "  📸 이미지가 포함된 섹션입니다.\n",
            "  📖 대제목: 0.   조수기 작동원리\n",
            "  📄 시작 페이지: 1\n",
            "  📝 내용 미리보기: 조수기는 기본적으로 해수를 끓여 이 수증기를 냉각시켜 물을 만드는 기기이다. 그런데 이 물을 어떻게 끓여 수증기를 만들고 냉각시켜 물을 만드느냐가 조수기의 성능을 좌우하게 된다. 우리들이 일상적으로 생활하는 공간의 압력을 대기압이라고 하는데, 이 대기압에서 물이 끓는 온도는 100℃이다. 이와 같이 100℃에서 물을 끓이는데 많은 열이 필요하나 선박에서는...\n",
            "-------------------------\n",
            "--- 섹션 2 ---\n",
            "  📖 대제목: 3.   조수기 운전 및 정지 - 3-1.  Starting up (KE Type)\n",
            "  📄 시작 페이지: 3\n",
            "  📝 내용 미리보기: 1)   조수기를 운전하기 전에 다음 밸브는 Close되어 있어야 한다.◆  Heat Exchanger의 Jacket Cool. Water용 입.출구 밸브◆  Vacuum Breaker Valve◆  Distillate Pump의 출구변◆  Heat Exchanger의 Feed Water 입구변◆  Bottom Blow Valve2)   Ejector Pu...\n",
            "-------------------------\n",
            "--- 섹션 3 ---\n",
            "  📖 대제목: 3.   조수기 운전 및 정지 - 3-2.  Stopping\n",
            "  📄 시작 페이지: 4\n",
            "  📝 내용 미리보기: 1) Salinity Indicator의 전원을 OFF한다.2) Heat exchanger 가열용 Jacket Cool. Water  By-pass V/V를 Open하고 입출구변을 Close한다.3) Distillate Pump를 정지하고 출구변을 Close한다.4) Heat Exchanger의 Feed Water V/V를 Close – Heat Excha...\n",
            "-------------------------\n",
            "--- 섹션 4 ---\n",
            "  📖 대제목: 3.   조수기 운전 및 정지 - 3-3.  Handling 시 유의사항\n",
            "  📄 시작 페이지: 4\n",
            "  📝 내용 미리보기: 1) 장치내의 Coating 부가 손상될 수 있으므로 화기작업을 금한다.2) Condenser Cooling Tube의 부식/침식을 방지하기 위해 다음사항에 유의한다.◆  Condenser 냉각수 입구변을 Open하고 출구변으로 냉각수의 양을 조절 요하며 배압은 최소한 0.2 Kg/㎠을 유지.◆  Condenser 입.출구의 냉각수 온도차는 지정치로 유지하...\n",
            "-------------------------\n",
            "--- 섹션 5 ---\n",
            "  📖 대제목: 3.   조수기 운전 및 정지 - 3-4.  조수량의 조절\n",
            "  📄 시작 페이지: 5\n",
            "  📝 내용 미리보기: 1)   조수량의 조절은 Heat Exchanger로 가는 Jacket Cool. F.W의 양을 가감함으로써가능하다. Jacket Cool. F.W 온도가 지정치보다 낮을 경우 통과량을 증가시키다.2)   Condenser의 냉각해수는 Cooling Tube를 통과한 해수가 통과전의 온도보다 높아지도록 조정한다.3)   해수온도가 낮은 지역 항해 시 Eva...\n",
            "-------------------------\n",
            "--- 섹션 6 ---\n",
            "  📖 대제목: 3.   조수기 운전 및 정지 - 3-5.  약품 활용 소제 방법\n",
            "  📄 시작 페이지: 5\n",
            "  📝 내용 미리보기: 주의 사항1) 정격 조수량 이상 운전하면, HEATER 등 각부에 SCALE이 다량 부착된다.2) 항만 등 오염지역 내에서 운전하지 않는다.박테리아 등 유해한 세균이 살균되지 않는 상태로 생산된다.3) 부득이 1), 2) 항 경우에 운전을 하였을 때에는 증류수를 철저히 약품으로 소독하거나, 조수기 소제 주기를 앞당기도록 한다.자. 소제1) 매 8,000시간...\n",
            "-------------------------\n",
            "--- 섹션 7 ---\n",
            "  📖 대제목: 1. 장비 사양 및 매뉴얼 주요부분 해석\n",
            "  📄 시작 페이지: 6\n",
            "  📝 내용 미리보기: 장비명 : 조수기Model: DX-α-40(shell type)Capacity of Distillate: 40Ton/day    Max. Salnity : 10 ppmNo. of set per ship: 1set/shipCooling Sea Water Temp.: Inlet 32℃Jacket Cooling Water Temp.: Inlet 83℃, 85,0...\n",
            "-------------------------\n",
            "--- 섹션 8 ---\n",
            "  📖 대제목: 1. 장비 사양 및 매뉴얼 주요부분 해석 - 1-1.   운전 조건:\n",
            "  📄 시작 페이지: 7\n",
            "  📝 내용 미리보기: 1)이젝터 입구압력: 밸러스트 시 약  3 bar.g , 적재 시 약  4 bar.g2)이젝터 출구압력:  0.6 bar 이하3)급수(Feed Water)는  피드밸브로 제어•   설치 시  온도계·계기류 판독이 용이 해야 한다.•   배관은 단순화하여  불필요한 압력손실 을 최소화할 것 (펌프 효율·생산수량 보장).•   신선수 라인은 반드시  담수탱크와...\n",
            "-------------------------\n",
            "--- 섹션 9 ---\n",
            "  📖 대제목: 1. 장비 사양 및 매뉴얼 주요부분 해석 - 1-2.   설치 시 압력 조건:\n",
            "  📄 시작 페이지: 8\n",
            "  📝 내용 미리보기: 1)이젝터 입구압력: 최소  3 bar (Ballast)  /  4 bar (Loaded)2)이젝터 출구압력:  0.6 bar 이하3)담수 배출 라인(counter pressure):  0.5 ~ 1.8 bar 이하•   FWG 인근에 설치된  이젝터-해수 펌프 조합 은 오버보드 배관 역압  0.6 bar 이하까지 견딜 수 있도록 설계되어야 한다. 만약 초...\n",
            "-------------------------\n",
            "--- 섹션 10 ---\n",
            "  📖 대제목: 1. 장비 사양 및 매뉴얼 주요부분 해석 - 1-3.   스팀 인젝터 설치 주의\n",
            "  📄 시작 페이지: 8\n",
            "  📝 내용 미리보기: •   스팀 드레인 라인에  역압 이 걸리면 이상 진동 발생 → 시스템 운전 불능 가능성있음.•   인젝터 후단 압력이  1 bar 초과 시 세이프티 밸브 작동 .•   공급 스팀 압력이 설계보다 낮을 경우, 진동·소음 발생 → ±5% 범위 내 유지 필요....\n",
            "-------------------------\n",
            "--- 섹션 11 ---\n",
            "  📖 대제목: 4.   운전 (DX-α 시리즈, 재킷 냉각수 이용) - 4-1. 기기 기동 (시동 절차)\n",
            "  📄 시작 페이지: 8\n",
            "  📝 내용 미리보기: 운전 전 반드시 다음 사항을 확인한다:•   급수 처리 지침(“화학 주입 부분”)을 준수할 것•   디스틸레이트 펌프 회전 방향 확인•   증발기 재킷 냉각수 입·출구 밸브 닫기•   진공 파괴 밸브 닫기•   증발기 급수 밸브 닫기•   디스틸레이트 펌프 출구 밸브 닫기•   하부 드레인 밸브 닫기•   콘덴서 냉각수 입·출구 밸브 열기주의:1)FWG(담...\n",
            "-------------------------\n",
            "--- 섹션 12 ---\n",
            "  📖 대제목: 4.   운전 (DX-α 시리즈, 재킷 냉각수 이용) - 4-2. 기동 절차:\n",
            "  📄 시작 페이지: 9\n",
            "  📝 내용 미리보기: •   Step 1 : 해수 이젝터 펌프 기동① 흡입 밸브 및 배출(오버보드) 밸브 전개방② 이젝터 펌프 기동③ 배출 밸브를 서서히 개방※ 이때 이젝터 입구 압력은  3 kg/cm² 이상  유지할 것•   Step 2 : 충분한 진공 형성(약 92%)까지 대기•   Step 3 : 급수 밸브 전개방 → 해수를 증발기에 주입→ 전개방해야 스케일 발생 방지....\n",
            "-------------------------\n",
            "--- 섹션 13 ---\n",
            "  📖 대제목: 4.   운전 (DX-α 시리즈, 재킷 냉각수 이용) - 4-3. 생산량 조절 (Regulating the capacity)\n",
            "  📄 시작 페이지: 10\n",
            "  📝 내용 미리보기: •   생산량은  재킷 냉각수 유량 을 조절해 맞춘다 (By-pass 밸브 이용).•   담수 생산량은  유량계 로 측정.•   재킷 냉각수 온도가 낮을 경우 → 열교환기 통과 유량을 조금 늘린다.•   콘덴서 냉각해수는 출구온도가 규정 온도에 맞게 조절.온도 조건:•   증발온도 너무 낮음  (저수온 해역):→ 진공 파괴 밸브 약간 개방 or 콘덴서 냉각...\n",
            "-------------------------\n",
            "--- 섹션 14 ---\n",
            "  📖 대제목: 4.   운전 (DX-α 시리즈, 재킷 냉각수 이용) - 4-4. 정지 절차 (Stopping)\n",
            "  📄 시작 페이지: 10\n",
            "  📝 내용 미리보기: 선박이  항구, 연안, 하구 에 접근할 경우 FWG를 정지해야 함 (세균 오염 위험 때문).정지 절차:•   Step 1: 기관 냉각수 By-pass 밸브 서서히 개방•   Step 2: 증발기 냉각수 입·출구 밸브 점진적 폐쇄•   Step 3: 급수 처리 밸브 닫기•   Step 4: 디스틸레이트 펌프 정지•   Step 5: 증발기 온도 50℃ 이하로...\n",
            "-------------------------\n",
            "--- 섹션 15 ---\n",
            "  📖 대제목: 4.   운전 (DX-α 시리즈, 재킷 냉각수 이용) - 4-5. 운전 중 주의사항 (Attention during operation)\n",
            "  📄 시작 페이지: 11\n",
            "  📝 내용 미리보기: 1)생산량 조절•   담수 생산량은 재킷 냉각수 유량 조절에 따라 결정•   청결한 상태에서는 정격 이상 생산도 가능하나, 과잉 생산 시 스케일 형성 위험→  정격 이하 운전 권장2)콘덴서•   증기 전량 응축 위해서는 냉각해수는  가능한 차갑게  유지•   냉각해수 입출구 온도차 반드시 기록 → 냉각수량 조절 근거로 사용3) 냉각해수 유량 문제:•   과...\n",
            "-------------------------\n",
            "--- 섹션 16 ---\n",
            "  📖 대제목: 6. 누설 및 압력 시험\n",
            "  📄 시작 페이지: 12\n",
            "  📝 내용 미리보기: 6-1) 진공 유지 곤란 시(누설 시험)•   시간이 지나면 패킹·조인트 열화로 누설이 생길 수 있음 →  누설 시험  실시.•   절차:...\n",
            "-------------------------\n",
            "--- 섹션 17 ---\n",
            "  📖 대제목: 1.   디스틸레이트 펌프  출구 밸브 ,  진공 브레이커 ,  바텀 블로우 ,  급수 밸브 를\n",
            "  📄 시작 페이지: 12\n",
            "  📝 내용 미리보기: 모두 닫음 ....\n",
            "-------------------------\n",
            "--- 섹션 18 ---\n",
            "  📖 대제목: 4.   패킹·조인트 부위에  비눗물 분사  → 기포로 누설 위치 확인.\n",
            "  📄 시작 페이지: 12\n",
            "  📝 내용 미리보기: 6-2) 압력 시험(콘덴서/열교환기)•   콘덴서 : 워터 챔버 분리 → 증발기 측에 공기를 주입해 쉘 내압  0.5 kg/cm²  유지→ 비눗물로 누설 확인.•   증발기(히터) :o   하부 커버 분리 → 쉘 측에  4~5 kg/cm²   수압 을 걸어 누설 확인.o   미세 균열/핀홀 확인: 튜브플레이트 표면에 비눗물 도포 후 쉘 측에  1.0kg/c...\n",
            "-------------------------\n",
            "--- 섹션 19 ---\n",
            "  📖 대제목: 7. 튜브 세정(스크일 제거, De-scaling) - 7-1. 세정 주기\n",
            "  📄 시작 페이지: 13\n",
            "  📝 내용 미리보기: •   FWG에는  히터(증발기), 콘덴서, 프리히터 가 있으며,  스케일은 주로 히터의 가열튜브 에 형성.•   화학 세정은  콘덴서 입구 온도계 포트에 어댑터 (옵션)를 연결해 전체 계통 순환세정 가능.•   일반적으로  연 2~3회  히터 내부 화학 세정. (운전 조건·해수 성상에 따라 변동)•   세정 필요 판단 기준:1)히터  입·출구 재킷수 온도...\n",
            "-------------------------\n",
            "--- 섹션 20 ---\n",
            "  📖 대제목: 7. 튜브 세정(스크일 제거, De-scaling) - 7-2. 화학 세정 방법\n",
            "  📄 시작 페이지: 13\n",
            "  📝 내용 미리보기: •   스케일 제거는  물리적 방법 (브러시·드릴·급냉·가압수)과  화학적 방법 (용해)이 있음.물리는 완전 제거가 어려워  화학 세정 이 일반적(빠르고, 튜브 손상 적고, 경제적).•   준비a) 바텀 블로우 밸브로 쉘의 해수를 배출.b) 바텀 블로우  완전 폐  및  사이트 글래스 분리 .•   약액 조제o   드럼에서 조제:  물을 먼저 넣고  화학약...\n",
            "-------------------------\n",
            "--- 섹션 21 ---\n",
            "  📖 대제목: 4.   정지 시  쉘이 손으로 만질 만큼 충분히 냉각 될 때까지 급수를 유지하고,  농축되지\n",
            "  📄 시작 페이지: 14\n",
            "  📝 내용 미리보기: 않은 신해수 로 상부 튜브플레이트까지 채워 둠....\n",
            "-------------------------\n",
            "--- 섹션 22 ---\n",
            "  📖 대제목: 4.   정지 시  쉘이 손으로 만질 만큼 충분히 냉각 될 때까지 급수를 유지하고,  농축되지 - 7-4. 급수 처리제의 연속 주입\n",
            "  📄 시작 페이지: 14\n",
            "  📝 내용 미리보기: •   정지 중 정기 세정과 별개로,  운전 중  급수 라인에  소정량의 처리제(Scaleinhibitor)  를  지속 주입 하면 스케일 형성을 적극적으로 억제, 성능 저하 없이 수명 연장(경제적이라 최근 채택 증가).•   주입 방법 : 급수 오리피스  후단 에 있는 인히비터용 나사 포트에  케미컬 탱크 배관연결 →  퍼지미터 로 유량 제어. (오리피스...\n",
            "-------------------------\n",
            "--- 섹션 23 ---\n",
            "  📖 대제목: 8. 내부 코팅 수리(Repair of inside coating)\n",
            "  📄 시작 페이지: 15\n",
            "  📝 내용 미리보기: •   점검 중 내부 코팅 손상이 발견되면  손상 부위 제거 → 건조 → 연마 → 재도장(에폭시 수지)  순으로 복원.•   절차1)손상 부위 코팅 제거, 주변  20mm 폭  포함해 사포/그라인더로 연마·청정·건조.2)휘발유 등으로  탈지 .3)에폭시 수지 + 경화제  혼합(충분히 혼합).  가용시간(pot life)  은 온도·배치 용량에 따라 달라지며...\n",
            "-------------------------\n",
            "--- 섹션 24 ---\n",
            "  📸 이미지가 포함된 섹션입니다.\n",
            "  📖 대제목: 5.   트러블슈팅 표 (증상–원인–조치)\n",
            "  📄 시작 페이지: 15\n",
            "  📝 내용 미리보기: | 현 상        | 원 인                                                     | 대 책                              |\n",
            "|:-------------|:----------------------------------------------------------|:---------------...\n",
            "-------------------------\n",
            "--- 섹션 25 ---\n",
            "  📸 이미지가 포함된 섹션입니다.\n",
            "  📖 대제목: 3. 점검 체크리스트 (일일 점검)\n",
            "  📄 시작 페이지: 19\n",
            "  📝 내용 미리보기: [Image Found on Page 19]•   온도(Temperature)o   J.C.F.W (Jacket Cooling Fresh Water) 입·출구:  80℃ / 65℃o   C.S.W (Cooling Sea Water) 입·출구:  16℃ / 24℃•   압력(Pressure)o   C.S.W 입·출구:  4~5 kg/cm² / 0.2~0.6...\n",
            "-------------------------\n",
            "--- 섹션 26 ---\n",
            "  📖 대제목: 4. 사고·고장 사례 (합성 DB)\n",
            "  📄 시작 페이지: 19\n",
            "  📝 내용 미리보기: Marine Freshwater Generators: Common Problems And Solutions초기 운전 시: 담수 펌프 운전 시 처음 30분 동안 생산된 증류수는 반드시 선외로 배출해야 한다.운전 중지 조건: 선박이 육지·항구·하구(강 어귀) 근처에 접근할 때는 조수기를 반드시정지해야 한다. 이 구역의 해수는 세균에 오염될 수 있으며, 증류수에...\n",
            "-------------------------\n",
            "--- 섹션 27 ---\n",
            "  📖 대제목: 5. IMO 규정 인용 (합성 발췌)\n",
            "  📄 시작 페이지: 21\n",
            "  📝 내용 미리보기: SOLAS Ch.II-2 Reg.10 (Fire Fighting):“기관구역 내 담수 발생장치(FWG) 및 부속 펌프는 화재안전설비가 배치된 구역에 설치되어야 하며, 관련 밸브와 배관은 화재 시 안전하게 차단·운용될 수 있어야 한다.”SOLAS Ch.III Reg.36 (Training and Drills):“생존에 필수적인 기기(예: 비상용 발전기, 담수...\n",
            "-------------------------\n"
          ]
        }
      ],
      "source": [
        "import fitz\n",
        "import pandas as pd\n",
        "import re\n",
        "import statistics\n",
        "\n",
        "def pdf_parser(pdf_path):\n",
        "    doc = fitz.open(pdf_path)\n",
        "    final_chunks = []\n",
        "    current_chunk = None\n",
        "    last_main_header_text = \"\"\n",
        "\n",
        "    for page_num, page in enumerate(doc, 1):\n",
        "        all_elements = []\n",
        "\n",
        "        # 페이지에서 이미지, 테이블, 텍스트 블록 추출\n",
        "        image_list = page.get_images(full=True)\n",
        "        tables = page.find_tables()\n",
        "        page_blocks = page.get_text(\"dict\", flags=fitz.TEXTFLAGS_SEARCH)[\"blocks\"]\n",
        "\n",
        "        # 테이블 bbox 저장하여 테이블 내 텍스트를 일반 텍스트로 중복 처리하지 않도록 함\n",
        "        table_bboxes = [fitz.Rect(t.bbox) for t in tables]\n",
        "\n",
        "        # 폰트 크기 수집하여 가장 흔한 폰트 크기를 기본 폰트로 두고 제목과 본문 구분\n",
        "        font_sizes = [span[\"size\"] for block in page_blocks if block[\"type\"] == 0 for line in block[\"lines\"] for span in line[\"spans\"]]\n",
        "        base_font_size = statistics.mode(font_sizes) if font_sizes else 10.0\n",
        "\n",
        "        # 텍스트 블록 순회하며 테이블에 속하지 않는 텍스트만 all_elements에 추가\n",
        "        for block in page_blocks:\n",
        "            if block['type'] == 0:\n",
        "                block_bbox = fitz.Rect(block['bbox'])\n",
        "                if not any(block_bbox.intersects(t_bbox) for t_bbox in table_bboxes):\n",
        "                    all_elements.append({'type': 'text', 'bbox': block_bbox, 'data': block})\n",
        "\n",
        "        # 이미지 정보 all_elements에 추가\n",
        "        for img_info in image_list:\n",
        "            width, height = img_info[2], img_info[3]\n",
        "            bbox = page.get_image_bbox(img_info)\n",
        "            all_elements.append({'type': 'image', 'bbox': bbox, 'data': f\"[Image Found on Page {page_num}]\"})\n",
        "\n",
        "        # 테이블 정보 pandas DataFrame -> Markdowm 형식으로 all_elements에 추가\n",
        "        for i, table in enumerate(tables):\n",
        "            df = table.to_pandas()\n",
        "            if not df.empty:\n",
        "                all_elements.append({'type': 'table', 'bbox': table_bboxes[i], 'data': df.to_markdown(index=False)})\n",
        "\n",
        "        # 페이지의 모든 요소를 y좌표 기준으로 정렬하여 시각적 순서대로 요소 처리\n",
        "        all_elements.sort(key=lambda x: x['bbox'].y0)\n",
        "\n",
        "        # 정렬된 요소들 처리하며 청크로 묶는 과정\n",
        "        for elem in all_elements:\n",
        "            elem_type = elem['type']\n",
        "\n",
        "            # 이미지 or 테이블일 경우 현재 청크에 내용 추가\n",
        "            if elem_type == 'image' or elem_type == 'table':\n",
        "                if current_chunk:\n",
        "                    current_chunk['content'].append(elem['data'])\n",
        "                    if elem_type == 'image': current_chunk['has_image'] = True\n",
        "                elif not final_chunks:\n",
        "                    current_chunk = {\"header\": \"Initial Content\", \"content\": [elem['data']], \"start_page\": page_num, \"type\": \"section\", \"has_image\": (elem_type == 'image')}\n",
        "                else:\n",
        "                    final_chunks[-1]['content'].insert(0, elem['data'])\n",
        "                    if elem_type == 'image': final_chunks[-1]['has_image'] = True\n",
        "                continue\n",
        "\n",
        "            # 요소가 텍스트인 경우 제목인지 본문인지 판단\n",
        "            block = elem['data']\n",
        "            raw_text = \" \".join([span[\"text\"] for line in block[\"lines\"] for span in line[\"spans\"]]).strip()\n",
        "            block_text = raw_text.replace(\"\\n\", \" \")\n",
        "            if not block_text:\n",
        "                continue\n",
        "\n",
        "            # 폰트 크기와 텍스트 패턴을 기존으로 내용 유형 결정\n",
        "            content_type = \"paragraph\"  # 본문\n",
        "            first_span = block[\"lines\"][0][\"spans\"][0]\n",
        "            if first_span[\"size\"] > base_font_size * 1.5: content_type = \"header_level_1\"  # 대제목\n",
        "            elif first_span[\"size\"] > base_font_size * 1.2: content_type = \"header_level_2\"  # 소제목\n",
        "            if re.match(r\"^\\d+\\.\", block_text): content_type = \"header_level_1\"\n",
        "            elif re.match(r\"^\\d+-\\d+\\.\", block_text): content_type = \"header_level_2\"\n",
        "\n",
        "            # 내용 유형이 제목일 경우 이전에 작업하던 청크를 마무리 지음\n",
        "            if content_type.startswith(\"header\"):\n",
        "                if current_chunk:\n",
        "                    current_chunk[\"content\"] = \"\".join(current_chunk[\"content\"]).strip()\n",
        "                    if current_chunk[\"content\"]:\n",
        "                        final_chunks.append(current_chunk)\n",
        "\n",
        "                # 새로운 청크 시작\n",
        "                header_text = block_text\n",
        "                if content_type == \"header_level_1\":\n",
        "                    last_main_header_text = block_text\n",
        "\n",
        "                # 소제목의 경우 대제목 - 소제목 형태로 제목 구성\n",
        "                elif last_main_header_text:\n",
        "                    header_text = f\"{last_main_header_text} - {block_text}\"\n",
        "\n",
        "                current_chunk = {\"header\": header_text, \"content\": [], \"start_page\": page_num, \"type\": \"section\", \"has_image\": False}\n",
        "\n",
        "            # 내용 유형이 본문인 경우, 현재 청크의 내용에 추가\n",
        "            elif current_chunk:\n",
        "                current_chunk['content'].append(block_text)\n",
        "\n",
        "    # 모든 페이지 처리가 끝난 후 마지막 작업 중이던 청크 마무리 지음\n",
        "    if current_chunk:\n",
        "        current_chunk[\"content\"] = \"\".join(current_chunk[\"content\"]).strip()\n",
        "        if current_chunk[\"content\"]:\n",
        "            final_chunks.append(current_chunk)\n",
        "\n",
        "    doc.close()\n",
        "    return final_chunks\n",
        "\n",
        "# 코드 실행\n",
        "if __name__ == \"__main__\":\n",
        "    pdf_file = \"/content/조수기 데모용 미니 데이터셋-shell.pdf\"\n",
        "    final_chunks = pdf_parser(pdf_file)\n",
        "\n",
        "    print(f\"총 {len(final_chunks)}개의 유효한 섹션으로 병합되었습니다.\\n\")\n",
        "    for i, chunk in enumerate(final_chunks):\n",
        "        print(f\"--- 섹션 {i+1} ---\")\n",
        "        if chunk.get(\"has_image\", False):\n",
        "            print(\"  📸 이미지가 포함된 섹션입니다.\")\n",
        "        print(f\"  📖 대제목: {chunk.get('header', 'N/A')}\")\n",
        "        print(f\"  📄 시작 페이지: {chunk['start_page']}\")\n",
        "        print(f\"  📝 내용 미리보기: {chunk['content'][:200].strip()}...\")\n",
        "        print(\"-\" * 25)"
      ]
    },
    {
      "cell_type": "markdown",
      "metadata": {
        "id": "lxZ0ZaU5qcrU"
      },
      "source": [
        "# 2. FAISS를 이용해 벡터 인덱스 생성"
      ]
    },
    {
      "cell_type": "code",
      "execution_count": 1,
      "metadata": {
        "colab": {
          "base_uri": "https://localhost:8080/"
        },
        "collapsed": true,
        "id": "psT4j2LRDITl",
        "outputId": "78b82346-18b6-4496-e431-db5aad29b1c9"
      },
      "outputs": [
        {
          "name": "stdout",
          "output_type": "stream",
          "text": [
            "Requirement already satisfied: sentence-transformers in /usr/local/lib/python3.12/dist-packages (5.1.1)\n",
            "Requirement already satisfied: faiss-gpu-cu12 in /usr/local/lib/python3.12/dist-packages (1.12.0)\n",
            "Requirement already satisfied: transformers<5.0.0,>=4.41.0 in /usr/local/lib/python3.12/dist-packages (from sentence-transformers) (4.56.1)\n",
            "Requirement already satisfied: tqdm in /usr/local/lib/python3.12/dist-packages (from sentence-transformers) (4.67.1)\n",
            "Requirement already satisfied: torch>=1.11.0 in /usr/local/lib/python3.12/dist-packages (from sentence-transformers) (2.8.0+cu126)\n",
            "Requirement already satisfied: scikit-learn in /usr/local/lib/python3.12/dist-packages (from sentence-transformers) (1.6.1)\n",
            "Requirement already satisfied: scipy in /usr/local/lib/python3.12/dist-packages (from sentence-transformers) (1.16.2)\n",
            "Requirement already satisfied: huggingface-hub>=0.20.0 in /usr/local/lib/python3.12/dist-packages (from sentence-transformers) (0.35.0)\n",
            "Requirement already satisfied: Pillow in /usr/local/lib/python3.12/dist-packages (from sentence-transformers) (11.3.0)\n",
            "Requirement already satisfied: typing_extensions>=4.5.0 in /usr/local/lib/python3.12/dist-packages (from sentence-transformers) (4.15.0)\n",
            "Requirement already satisfied: numpy<2 in /usr/local/lib/python3.12/dist-packages (from faiss-gpu-cu12) (1.26.4)\n",
            "Requirement already satisfied: packaging in /usr/local/lib/python3.12/dist-packages (from faiss-gpu-cu12) (25.0)\n",
            "Requirement already satisfied: nvidia-cuda-runtime-cu12>=12.1.105 in /usr/local/lib/python3.12/dist-packages (from faiss-gpu-cu12) (12.6.77)\n",
            "Requirement already satisfied: nvidia-cublas-cu12>=12.1.3.1 in /usr/local/lib/python3.12/dist-packages (from faiss-gpu-cu12) (12.6.4.1)\n",
            "Requirement already satisfied: filelock in /usr/local/lib/python3.12/dist-packages (from huggingface-hub>=0.20.0->sentence-transformers) (3.19.1)\n",
            "Requirement already satisfied: fsspec>=2023.5.0 in /usr/local/lib/python3.12/dist-packages (from huggingface-hub>=0.20.0->sentence-transformers) (2025.3.0)\n",
            "Requirement already satisfied: pyyaml>=5.1 in /usr/local/lib/python3.12/dist-packages (from huggingface-hub>=0.20.0->sentence-transformers) (6.0.2)\n",
            "Requirement already satisfied: requests in /usr/local/lib/python3.12/dist-packages (from huggingface-hub>=0.20.0->sentence-transformers) (2.32.4)\n",
            "Requirement already satisfied: hf-xet<2.0.0,>=1.1.3 in /usr/local/lib/python3.12/dist-packages (from huggingface-hub>=0.20.0->sentence-transformers) (1.1.10)\n",
            "Requirement already satisfied: setuptools in /usr/local/lib/python3.12/dist-packages (from torch>=1.11.0->sentence-transformers) (75.2.0)\n",
            "Requirement already satisfied: sympy>=1.13.3 in /usr/local/lib/python3.12/dist-packages (from torch>=1.11.0->sentence-transformers) (1.13.3)\n",
            "Requirement already satisfied: networkx in /usr/local/lib/python3.12/dist-packages (from torch>=1.11.0->sentence-transformers) (3.5)\n",
            "Requirement already satisfied: jinja2 in /usr/local/lib/python3.12/dist-packages (from torch>=1.11.0->sentence-transformers) (3.1.6)\n",
            "Requirement already satisfied: nvidia-cuda-nvrtc-cu12==12.6.77 in /usr/local/lib/python3.12/dist-packages (from torch>=1.11.0->sentence-transformers) (12.6.77)\n",
            "Requirement already satisfied: nvidia-cuda-cupti-cu12==12.6.80 in /usr/local/lib/python3.12/dist-packages (from torch>=1.11.0->sentence-transformers) (12.6.80)\n",
            "Requirement already satisfied: nvidia-cudnn-cu12==9.10.2.21 in /usr/local/lib/python3.12/dist-packages (from torch>=1.11.0->sentence-transformers) (9.10.2.21)\n",
            "Requirement already satisfied: nvidia-cufft-cu12==11.3.0.4 in /usr/local/lib/python3.12/dist-packages (from torch>=1.11.0->sentence-transformers) (11.3.0.4)\n",
            "Requirement already satisfied: nvidia-curand-cu12==10.3.7.77 in /usr/local/lib/python3.12/dist-packages (from torch>=1.11.0->sentence-transformers) (10.3.7.77)\n",
            "Requirement already satisfied: nvidia-cusolver-cu12==11.7.1.2 in /usr/local/lib/python3.12/dist-packages (from torch>=1.11.0->sentence-transformers) (11.7.1.2)\n",
            "Requirement already satisfied: nvidia-cusparse-cu12==12.5.4.2 in /usr/local/lib/python3.12/dist-packages (from torch>=1.11.0->sentence-transformers) (12.5.4.2)\n",
            "Requirement already satisfied: nvidia-cusparselt-cu12==0.7.1 in /usr/local/lib/python3.12/dist-packages (from torch>=1.11.0->sentence-transformers) (0.7.1)\n",
            "Requirement already satisfied: nvidia-nccl-cu12==2.27.3 in /usr/local/lib/python3.12/dist-packages (from torch>=1.11.0->sentence-transformers) (2.27.3)\n",
            "Requirement already satisfied: nvidia-nvtx-cu12==12.6.77 in /usr/local/lib/python3.12/dist-packages (from torch>=1.11.0->sentence-transformers) (12.6.77)\n",
            "Requirement already satisfied: nvidia-nvjitlink-cu12==12.6.85 in /usr/local/lib/python3.12/dist-packages (from torch>=1.11.0->sentence-transformers) (12.6.85)\n",
            "Requirement already satisfied: nvidia-cufile-cu12==1.11.1.6 in /usr/local/lib/python3.12/dist-packages (from torch>=1.11.0->sentence-transformers) (1.11.1.6)\n",
            "Requirement already satisfied: triton==3.4.0 in /usr/local/lib/python3.12/dist-packages (from torch>=1.11.0->sentence-transformers) (3.4.0)\n",
            "Requirement already satisfied: regex!=2019.12.17 in /usr/local/lib/python3.12/dist-packages (from transformers<5.0.0,>=4.41.0->sentence-transformers) (2024.11.6)\n",
            "Requirement already satisfied: tokenizers<=0.23.0,>=0.22.0 in /usr/local/lib/python3.12/dist-packages (from transformers<5.0.0,>=4.41.0->sentence-transformers) (0.22.0)\n",
            "Requirement already satisfied: safetensors>=0.4.3 in /usr/local/lib/python3.12/dist-packages (from transformers<5.0.0,>=4.41.0->sentence-transformers) (0.6.2)\n",
            "Requirement already satisfied: joblib>=1.2.0 in /usr/local/lib/python3.12/dist-packages (from scikit-learn->sentence-transformers) (1.5.2)\n",
            "Requirement already satisfied: threadpoolctl>=3.1.0 in /usr/local/lib/python3.12/dist-packages (from scikit-learn->sentence-transformers) (3.6.0)\n",
            "Requirement already satisfied: mpmath<1.4,>=1.1.0 in /usr/local/lib/python3.12/dist-packages (from sympy>=1.13.3->torch>=1.11.0->sentence-transformers) (1.3.0)\n",
            "Requirement already satisfied: MarkupSafe>=2.0 in /usr/local/lib/python3.12/dist-packages (from jinja2->torch>=1.11.0->sentence-transformers) (3.0.2)\n",
            "Requirement already satisfied: charset_normalizer<4,>=2 in /usr/local/lib/python3.12/dist-packages (from requests->huggingface-hub>=0.20.0->sentence-transformers) (3.4.3)\n",
            "Requirement already satisfied: idna<4,>=2.5 in /usr/local/lib/python3.12/dist-packages (from requests->huggingface-hub>=0.20.0->sentence-transformers) (3.10)\n",
            "Requirement already satisfied: urllib3<3,>=1.21.1 in /usr/local/lib/python3.12/dist-packages (from requests->huggingface-hub>=0.20.0->sentence-transformers) (2.5.0)\n",
            "Requirement already satisfied: certifi>=2017.4.17 in /usr/local/lib/python3.12/dist-packages (from requests->huggingface-hub>=0.20.0->sentence-transformers) (2025.8.3)\n"
          ]
        }
      ],
      "source": [
        "!pip install sentence-transformers faiss-gpu-cu12"
      ]
    },
    {
      "cell_type": "code",
      "execution_count": 2,
      "metadata": {
        "colab": {
          "base_uri": "https://localhost:8080/",
          "height": 516,
          "referenced_widgets": [
            "69101b79ba624c41aa725bf7d9507708",
            "441886bb5f284647a0c983064689435a",
            "92f5775d4cf54bc3b6284bdc43e5552d",
            "ee4aa9f96e75433db39f0cf0c5999ad5",
            "df93877ad6bc48f0b832076065be0eb3",
            "9621660399f44ee88bd1644820264dbe",
            "01b33d415e3b4b258b747092e85decbd",
            "73e7011a3d9c4399b886a6ea9308c323",
            "d0b8caa1783347859d49c3f17f4d8b3a",
            "b98b80bf8d0c4202afe01be4294c7b7c",
            "81b185721d5f416d85870cd73decadb4",
            "2477c77a55b04d51922a58daa9ff381e",
            "c0533c7bad254bc4aeb6dbd9f81ee46a",
            "faf12317825043cd92050c6d6c375352",
            "301bbca337c14575b223d7c9fb31c9c9",
            "2864d44ff5914717814b9626e24799a5",
            "95a6e14304a34df5b405d380f56cb52e",
            "04aaea454dcd4a459016c5887f2a1db0",
            "bcdbcda1ac4045859d80f1e30250092e",
            "1fbb78444d684f4e8a6d28865181fa56",
            "ea283d9035744812860b2a55db21c4cc",
            "27a8dfde680f47579367eb73873bc1c5",
            "cc666bb9e1484ad88ff656de301c1ce3",
            "69e1fa3c6d0b4489a64c973332d05452",
            "a424c1b7cd7f4e538bbb8f21c957bdd8",
            "0f7f2bbd7bd14b9b8632584a3a85acc0",
            "fec54dcac9a74840be12976e9b28053c",
            "987434d657c9482fb5e7a2f68c95bf35",
            "7326bcb68f7548a19c1e22bfd48256a2",
            "ee35ca62ef874c1bbf891491f9419015",
            "49677796a0a240509c6bd8843eb7e8c0",
            "ab25ba6fe6f345d59153444372a7891e",
            "06224d587c0c4678afff870c3f1909f4",
            "c73ad7aa849a42b18227cc824dd81131",
            "b6f5dd0525aa48f58262e7668a3f7602",
            "ecde9c04d053423fbdf20b0e18575512",
            "833c90e5077046b1be981b720e92424e",
            "a9fbf7bd4e9d47d79f7c90b6f51aa80e",
            "028c79b683be489a830e1ff85f4132d5",
            "98fc640c3d424e3887b636fea313fc8a",
            "3eb73b0115d74656acfe292cb2bdaae7",
            "bc3278b580884737a6c4c7b63635dcf8",
            "f9df6f403594426c8bc933771c7f8a6c",
            "54ec0b702676446aa8deab2ba18981ad",
            "05fc5f821ce6471d84cb85531bc79063",
            "bd323b3efc474c60a0a18384cc0afb77",
            "baca9ac849cf4f47b8b3d97c0b7059bc",
            "f0f6113896094ec0941d8eaf1fb01933",
            "fff6b8702851473ea67b1d69409fddcc",
            "246aafbeb6d14789963e21b3017f8c6d",
            "18be67618c2b4d4d91743d87505ba986",
            "e9410e4801c3493da3422de66348c864",
            "5ca69cb2189d4dd3a35482241c393c03",
            "9709a20c1832416d9e94059fcc167208",
            "61ac4ee16e5d4c498656db8217a60f25",
            "3520d43885954ba3b88b44eb5ba5b6f2",
            "dde36ea87f924445a7c0315ec1421f09",
            "1bbda8f2185f459b93772f2fe89849af",
            "5696f84b626443378e71e77e98d8f475",
            "1375d09ac6ef42ba842814fd833cdb20",
            "a8b2503a19104ad58b9c4c8875c80663",
            "9020bc9374ab46cf9375d215b8147845",
            "9f32c70d93e44b75b50e7b617d1744c6",
            "57257a7f17e045e9a9633b015ddf2f8b",
            "2543122243964b8689471ba1eacb3021",
            "5fc84cd5795a4c8b90148f70518676ac",
            "22f3a4af08644478a8ecb7694ce96003",
            "6a117074537b409a9570c308cb453bc8",
            "3ec2ee480d284cd2bab516f5a844bc1f",
            "1f77102a78da450ca92c1edd9669e838",
            "8af92612cb6c4076853acd09c1e811b8",
            "0a1050020036487bbb81b8a074e00023",
            "4b271fb61b074b72bafa95e9e87933f8",
            "49bfa5638efc4a1c9b835a31a5df61a6",
            "d89cc6bba9234058b6bfdfe2e1d5dee5",
            "cadb504402484cb08bb3360950707713",
            "28606ca7597643398b1da3227a24ee51",
            "cbbff470ba284cb9ae24dfff7ce851b0",
            "694a7fcebc8c41b28c116e7c96a094f3",
            "3f8147d097a34f68bd08ed909119a8e9",
            "fb6bc154124f464c8a0485d9a636c4cc",
            "3c9ac626880440c381e73fd11bf58cce",
            "3187af9ab5c64826a1375146bdeff51f",
            "6c9a6c9c8b9f4600bc7beafebff2d707",
            "3100913e2a6e48ec9ca5610e19fdfd7a",
            "727f085e651946d98de9e0c5305434df",
            "78dde7e956174559b6633b0c926601ef",
            "a16c445367b741b09698fad8c2f81eb1",
            "b151c4e0337d461290be889e4f89d8ac",
            "ef7d2a1c30574d568006fcf0eeff416b",
            "7f56be3f5b4e493cbe7770f67319c5e6",
            "90b1d5ee84c94b0583887baa599af69b",
            "53a6f31d7bb64fd899bb564b76244bcb",
            "a578091f3ecc4099abe74590a9f40d2d",
            "ccdaf2242b1745f99ba5ebe700eebf41",
            "04f1b54b04084af482b50db322f38519",
            "ee052d2eeb074ede8df729f1b6da6da9",
            "7106ce39f21e441f92e9ca61b357021d",
            "6b745dd2d87244fc8abc59e1570567e6",
            "5b88782de2c3413a8f5be1da88764ef4",
            "beaa57b44a7445af9ae86f47381d6dae",
            "e7c1e41d3150463b99c9e63911884033",
            "f9f42c42550e473d938108c2f5c766a8",
            "670fce626992450aa938f73615039458",
            "28fbec3ce4854ac99d7526fead306555",
            "407b0d05221c475aa404bb61886be9cd",
            "bf5b13daa3f44b11b4a8bdb3737a4b3d",
            "07ae81200ecb4568aaf12f08a5cb58cd",
            "fc23561fd56d43389a843efc990248c2",
            "4cd6a9fc11174eb083a53e9e0dfab086"
          ]
        },
        "id": "WhIUc7Qip4RR",
        "outputId": "06234c4d-1662-4556-9faf-a0487c638160"
      },
      "outputs": [
        {
          "data": {
            "application/vnd.jupyter.widget-view+json": {
              "model_id": "69101b79ba624c41aa725bf7d9507708",
              "version_major": 2,
              "version_minor": 0
            },
            "text/plain": [
              "modules.json:   0%|          | 0.00/349 [00:00<?, ?B/s]"
            ]
          },
          "metadata": {},
          "output_type": "display_data"
        },
        {
          "data": {
            "application/vnd.jupyter.widget-view+json": {
              "model_id": "2477c77a55b04d51922a58daa9ff381e",
              "version_major": 2,
              "version_minor": 0
            },
            "text/plain": [
              "config_sentence_transformers.json:   0%|          | 0.00/215 [00:00<?, ?B/s]"
            ]
          },
          "metadata": {},
          "output_type": "display_data"
        },
        {
          "data": {
            "application/vnd.jupyter.widget-view+json": {
              "model_id": "cc666bb9e1484ad88ff656de301c1ce3",
              "version_major": 2,
              "version_minor": 0
            },
            "text/plain": [
              "README.md: 0.00B [00:00, ?B/s]"
            ]
          },
          "metadata": {},
          "output_type": "display_data"
        },
        {
          "data": {
            "application/vnd.jupyter.widget-view+json": {
              "model_id": "c73ad7aa849a42b18227cc824dd81131",
              "version_major": 2,
              "version_minor": 0
            },
            "text/plain": [
              "config.json:   0%|          | 0.00/727 [00:00<?, ?B/s]"
            ]
          },
          "metadata": {},
          "output_type": "display_data"
        },
        {
          "data": {
            "application/vnd.jupyter.widget-view+json": {
              "model_id": "05fc5f821ce6471d84cb85531bc79063",
              "version_major": 2,
              "version_minor": 0
            },
            "text/plain": [
              "model.safetensors:   0%|          | 0.00/1.19G [00:00<?, ?B/s]"
            ]
          },
          "metadata": {},
          "output_type": "display_data"
        },
        {
          "data": {
            "application/vnd.jupyter.widget-view+json": {
              "model_id": "3520d43885954ba3b88b44eb5ba5b6f2",
              "version_major": 2,
              "version_minor": 0
            },
            "text/plain": [
              "tokenizer_config.json: 0.00B [00:00, ?B/s]"
            ]
          },
          "metadata": {},
          "output_type": "display_data"
        },
        {
          "data": {
            "application/vnd.jupyter.widget-view+json": {
              "model_id": "22f3a4af08644478a8ecb7694ce96003",
              "version_major": 2,
              "version_minor": 0
            },
            "text/plain": [
              "vocab.json: 0.00B [00:00, ?B/s]"
            ]
          },
          "metadata": {},
          "output_type": "display_data"
        },
        {
          "data": {
            "application/vnd.jupyter.widget-view+json": {
              "model_id": "cbbff470ba284cb9ae24dfff7ce851b0",
              "version_major": 2,
              "version_minor": 0
            },
            "text/plain": [
              "merges.txt: 0.00B [00:00, ?B/s]"
            ]
          },
          "metadata": {},
          "output_type": "display_data"
        },
        {
          "data": {
            "application/vnd.jupyter.widget-view+json": {
              "model_id": "b151c4e0337d461290be889e4f89d8ac",
              "version_major": 2,
              "version_minor": 0
            },
            "text/plain": [
              "tokenizer.json:   0%|          | 0.00/11.4M [00:00<?, ?B/s]"
            ]
          },
          "metadata": {},
          "output_type": "display_data"
        },
        {
          "data": {
            "application/vnd.jupyter.widget-view+json": {
              "model_id": "5b88782de2c3413a8f5be1da88764ef4",
              "version_major": 2,
              "version_minor": 0
            },
            "text/plain": [
              "config.json:   0%|          | 0.00/313 [00:00<?, ?B/s]"
            ]
          },
          "metadata": {},
          "output_type": "display_data"
        },
        {
          "data": {
            "text/plain": [
              "SentenceTransformer(\n",
              "  (0): Transformer({'max_seq_length': 32768, 'do_lower_case': False, 'architecture': 'Qwen3Model'})\n",
              "  (1): Pooling({'word_embedding_dimension': 1024, 'pooling_mode_cls_token': False, 'pooling_mode_mean_tokens': False, 'pooling_mode_max_tokens': False, 'pooling_mode_mean_sqrt_len_tokens': False, 'pooling_mode_weightedmean_tokens': False, 'pooling_mode_lasttoken': True, 'include_prompt': True})\n",
              "  (2): Normalize()\n",
              ")"
            ]
          },
          "execution_count": 2,
          "metadata": {},
          "output_type": "execute_result"
        }
      ],
      "source": [
        "from sentence_transformers import SentenceTransformer\n",
        "import faiss\n",
        "import numpy as np\n",
        "import torch\n",
        "\n",
        "device = 'cuda' if torch.cuda.is_available() else 'cpu'\n",
        "\n",
        "# 임베딩 모델 로드\n",
        "embedding_model = SentenceTransformer(\"Qwen/Qwen3-Embedding-0.6B\") # snunlp/KR-SBERT-V40K-klueNLI-augSTS\n",
        "embedding_model.to(device)"
      ]
    },
    {
      "cell_type": "code",
      "execution_count": 6,
      "metadata": {
        "colab": {
          "base_uri": "https://localhost:8080/"
        },
        "id": "0KwOPsCPDI2M",
        "outputId": "5c36672f-9d76-446a-e64c-498a6718fb78"
      },
      "outputs": [
        {
          "name": "stdout",
          "output_type": "stream",
          "text": [
            "문서 임베딩을 시작합니다...\n",
            "임베딩 완료!\n"
          ]
        }
      ],
      "source": [
        "# 1. 문서 파싱\n",
        "pdf_file = \"/content/조수기 데모용 미니 데이터셋-shell.pdf\"\n",
        "chunks = pdf_parser(pdf_file)\n",
        "documents = [\n",
        "    f\"제목: {chunk['header']}, 내용: {chunk['content']}\" for chunk in chunks\n",
        "]\n",
        "\n",
        "# 2. 문서 임베딩\n",
        "print(\"문서 임베딩을 시작합니다...\")\n",
        "embeddings = embedding_model.encode(documents, convert_to_tensor=True, device=device)\n",
        "print(\"임베딩 완료!\")\n",
        "\n",
        "# 3. FAISS로 벡터 검색 엔진(인덱스) 구축\n",
        "d = embeddings.shape[1]\n",
        "res = faiss.StandardGpuResources()\n",
        "index_flat = faiss.IndexFlatL2(d)\n",
        "gpu_index = faiss.index_cpu_to_gpu(res, 0, index_flat)\n",
        "gpu_index.add(embeddings.cpu().numpy())"
      ]
    },
    {
      "cell_type": "markdown",
      "metadata": {
        "id": "meTqoKbbrWCl"
      },
      "source": [
        "#3. LLM 프롬프트 작성 및 입력"
      ]
    },
    {
      "cell_type": "code",
      "execution_count": 7,
      "metadata": {
        "colab": {
          "base_uri": "https://localhost:8080/"
        },
        "id": "0C9902dBISjM",
        "outputId": "0cee8ed2-985d-425f-d23c-2cd2e4cdf127"
      },
      "outputs": [
        {
          "name": "stdout",
          "output_type": "stream",
          "text": [
            "Requirement already satisfied: google-generativeai in /usr/local/lib/python3.12/dist-packages (0.8.5)\n",
            "Requirement already satisfied: google-ai-generativelanguage==0.6.15 in /usr/local/lib/python3.12/dist-packages (from google-generativeai) (0.6.15)\n",
            "Requirement already satisfied: google-api-core in /usr/local/lib/python3.12/dist-packages (from google-generativeai) (2.25.1)\n",
            "Requirement already satisfied: google-api-python-client in /usr/local/lib/python3.12/dist-packages (from google-generativeai) (2.182.0)\n",
            "Requirement already satisfied: google-auth>=2.15.0 in /usr/local/lib/python3.12/dist-packages (from google-generativeai) (2.38.0)\n",
            "Requirement already satisfied: protobuf in /usr/local/lib/python3.12/dist-packages (from google-generativeai) (5.29.5)\n",
            "Requirement already satisfied: pydantic in /usr/local/lib/python3.12/dist-packages (from google-generativeai) (2.11.9)\n",
            "Requirement already satisfied: tqdm in /usr/local/lib/python3.12/dist-packages (from google-generativeai) (4.67.1)\n",
            "Requirement already satisfied: typing-extensions in /usr/local/lib/python3.12/dist-packages (from google-generativeai) (4.15.0)\n",
            "Requirement already satisfied: proto-plus<2.0.0dev,>=1.22.3 in /usr/local/lib/python3.12/dist-packages (from google-ai-generativelanguage==0.6.15->google-generativeai) (1.26.1)\n",
            "Requirement already satisfied: googleapis-common-protos<2.0.0,>=1.56.2 in /usr/local/lib/python3.12/dist-packages (from google-api-core->google-generativeai) (1.70.0)\n",
            "Requirement already satisfied: requests<3.0.0,>=2.18.0 in /usr/local/lib/python3.12/dist-packages (from google-api-core->google-generativeai) (2.32.4)\n",
            "Requirement already satisfied: cachetools<6.0,>=2.0.0 in /usr/local/lib/python3.12/dist-packages (from google-auth>=2.15.0->google-generativeai) (5.5.2)\n",
            "Requirement already satisfied: pyasn1-modules>=0.2.1 in /usr/local/lib/python3.12/dist-packages (from google-auth>=2.15.0->google-generativeai) (0.4.2)\n",
            "Requirement already satisfied: rsa<5,>=3.1.4 in /usr/local/lib/python3.12/dist-packages (from google-auth>=2.15.0->google-generativeai) (4.9.1)\n",
            "Requirement already satisfied: httplib2<1.0.0,>=0.19.0 in /usr/local/lib/python3.12/dist-packages (from google-api-python-client->google-generativeai) (0.31.0)\n",
            "Requirement already satisfied: google-auth-httplib2<1.0.0,>=0.2.0 in /usr/local/lib/python3.12/dist-packages (from google-api-python-client->google-generativeai) (0.2.0)\n",
            "Requirement already satisfied: uritemplate<5,>=3.0.1 in /usr/local/lib/python3.12/dist-packages (from google-api-python-client->google-generativeai) (4.2.0)\n",
            "Requirement already satisfied: annotated-types>=0.6.0 in /usr/local/lib/python3.12/dist-packages (from pydantic->google-generativeai) (0.7.0)\n",
            "Requirement already satisfied: pydantic-core==2.33.2 in /usr/local/lib/python3.12/dist-packages (from pydantic->google-generativeai) (2.33.2)\n",
            "Requirement already satisfied: typing-inspection>=0.4.0 in /usr/local/lib/python3.12/dist-packages (from pydantic->google-generativeai) (0.4.1)\n",
            "Requirement already satisfied: grpcio<2.0.0,>=1.33.2 in /usr/local/lib/python3.12/dist-packages (from google-api-core[grpc]!=2.0.*,!=2.1.*,!=2.10.*,!=2.2.*,!=2.3.*,!=2.4.*,!=2.5.*,!=2.6.*,!=2.7.*,!=2.8.*,!=2.9.*,<3.0.0dev,>=1.34.1->google-ai-generativelanguage==0.6.15->google-generativeai) (1.75.0)\n",
            "Requirement already satisfied: grpcio-status<2.0.0,>=1.33.2 in /usr/local/lib/python3.12/dist-packages (from google-api-core[grpc]!=2.0.*,!=2.1.*,!=2.10.*,!=2.2.*,!=2.3.*,!=2.4.*,!=2.5.*,!=2.6.*,!=2.7.*,!=2.8.*,!=2.9.*,<3.0.0dev,>=1.34.1->google-ai-generativelanguage==0.6.15->google-generativeai) (1.71.2)\n",
            "Requirement already satisfied: pyparsing<4,>=3.0.4 in /usr/local/lib/python3.12/dist-packages (from httplib2<1.0.0,>=0.19.0->google-api-python-client->google-generativeai) (3.2.4)\n",
            "Requirement already satisfied: pyasn1<0.7.0,>=0.6.1 in /usr/local/lib/python3.12/dist-packages (from pyasn1-modules>=0.2.1->google-auth>=2.15.0->google-generativeai) (0.6.1)\n",
            "Requirement already satisfied: charset_normalizer<4,>=2 in /usr/local/lib/python3.12/dist-packages (from requests<3.0.0,>=2.18.0->google-api-core->google-generativeai) (3.4.3)\n",
            "Requirement already satisfied: idna<4,>=2.5 in /usr/local/lib/python3.12/dist-packages (from requests<3.0.0,>=2.18.0->google-api-core->google-generativeai) (3.10)\n",
            "Requirement already satisfied: urllib3<3,>=1.21.1 in /usr/local/lib/python3.12/dist-packages (from requests<3.0.0,>=2.18.0->google-api-core->google-generativeai) (2.5.0)\n",
            "Requirement already satisfied: certifi>=2017.4.17 in /usr/local/lib/python3.12/dist-packages (from requests<3.0.0,>=2.18.0->google-api-core->google-generativeai) (2025.8.3)\n"
          ]
        }
      ],
      "source": [
        "!pip install google-generativeai"
      ]
    },
    {
      "cell_type": "code",
      "execution_count": null,
      "metadata": {
        "colab": {
          "base_uri": "https://localhost:8080/",
          "height": 1000
        },
        "id": "l1ntoaS-GE6C",
        "outputId": "d1ad9138-8f50-4cae-fbe9-47442a548f65"
      },
      "outputs": [
        {
          "name": "stdout",
          "output_type": "stream",
          "text": [
            "--- 최종 프롬프트 ---\n",
            "\n",
            "당신은 '조수기 기술 매뉴얼' 전문가입니다.\n",
            "주어진 관련 문서를 바탕으로 사용자의 질문에 대해 한국어로 답변해주세요.\n",
            "\n",
            "--- 관련 문서 ---\n",
            "--- 관련 문서 #1 (제목: 4.   운전 (DX-α 시리즈, 재킷 냉각수 이용) - 4-5. 운전 중 주의사항 (Attention during operation)) ---\n",
            "1)생산량 조절•   담수 생산량은 재킷 냉각수 유량 조절에 따라 결정•   청결한 상태에서는 정격 이상 생산도 가능하나, 과잉 생산 시 스케일 형성 위험→  정격 이하 운전 권장2)콘덴서•   증기 전량 응축 위해서는 냉각해수는  가능한 차갑게  유지•   냉각해수 입출구 온도차 반드시 기록 → 냉각수량 조절 근거로 사용3) 냉각해수 유량 문제:•   과잉 공급  → 고속 유동으로  부식(침식)  위험 ↑•   부족 공급  → 냉각 불충분 → 담수 생산량 감소4)냉각수량 계산식:Q=D×24.5t1 − t2Q = \\frac{D \\times 24.5}{t1 - t2}Q=t1 − t2D×24.5•   D = 담수 생산량 (톤/일)•   t1 = 콘덴서 입구 온도•   t2 = 콘덴서 출구 온도•   Q = 콘덴서 냉각수 유량정기적으로 운전 데이터를 기록하면, FWG의  이상 징후 조기 발견  가능하다.5)점검(Inspection)•   주기 : 예를 들어  연 2회  정기 점검.•   내용 :o   분리기 상부 커버와 열교환기 하부 커버를 열어  튜브 내부 스케일  및  내부 코팅 박리(exfoliation)  여부 점검.o   콘덴서 커버를 열어  냉각 튜브 슬러지/이물 부착  여부 점검.o   펌프 는 정기적으로 점검·세척하고,  부식 부품 은 예비품으로 교체.\n",
            "\n",
            "--- 관련 문서 #2 (제목: 3.   조수기 운전 및 정지 - 3-4.  조수량의 조절) ---\n",
            "1)   조수량의 조절은 Heat Exchanger로 가는 Jacket Cool. F.W의 양을 가감함으로써가능하다. Jacket Cool. F.W 온도가 지정치보다 낮을 경우 통과량을 증가시키다.2)   Condenser의 냉각해수는 Cooling Tube를 통과한 해수가 통과전의 온도보다 높아지도록 조정한다.3)   해수온도가 낮은 지역 항해 시 Evaporator Shell 내의 온도가 낮아지면◆  Vacuum Breaker V/V를 약간 열어 진공을 떨어뜨리면 온도가 올라간다.◆  Condenser 냉각 해수량을 감소시켜 온도를 조절한다.4)   해수온도가 높은 지역 항해시 Evaporator Shell 내의 온도가 규정치보다 높아지면 Condenser 냉각 해수량을 증가시키므로 온도를 조절할 수 있다.5)   증발온도가 과도하게 높으면 Heat Exchanger의 Tube에 Scale 형성의 위험이있고, 과도하게 낮으면 과비등 되어 해수 방울이 Condenser로 공급되어 염도상승의 원인이 된다.\n",
            "\n",
            "--- 관련 문서 #3 (제목: 5.   트러블슈팅 표 (증상–원인–조치)) ---\n",
            "| 현 상        | 원 인                                                     | 대 책                              |\n",
            "|:-------------|:----------------------------------------------------------|:-----------------------------------|\n",
            "| 증류수의     | 증류수 생산량이 많다.                                     | 생산량을 줄인다.                   |\n",
            "| 염분이 높다. |                                                           |                                    |\n",
            "|              | Salinity Alarm 장치의                                     | 오염된 Cell을 소제한다.            |\n",
            "|              | 염도 지시가 불량하다.                                     |                                    |\n",
            "|              | 급수량이 적다.                                            | 급수 조절밸브로 급수량을 늘린다.   |\n",
            "|              | Chamber내의 온도가 35℃                                    | Vacuum Breaker 밸브를 조금 연다.   |\n",
            "|              | 보다 낮다                                                 |                                    |\n",
            "|              | Cooling Tube가 누설한다.                                  | Tube를 Plugging한다.               |\n",
            "|              | Brine의 수위가 높다.                                      | 1. Ejector가 작동이 불량하다.      |\n",
            "|              |                                                           | 2. Nozzle이 막혔다.                |\n",
            "|              |                                                           | 3. Diffuser가 부식되었다.          |\n",
            "|              |                                                           | 4. Back Pressure(1.0 ㎏/㎠)가 높다 |\n",
            "|              | 항구나 연안에서 운전하면 고형물 등의 불순물이 많다.       |                                    |\n",
            "|              | 조수기가 정지되면 LINE상의 증류수에 염분 농도가 증가한다. |                                    |\n",
            "| 조수량이     | Cooling Tube 내에 혼입된                                  | Air를 배출한다.                    |\n",
            "| 부족하다.    | Air가 Condenser의 냉각능력                                |                                    |\n",
            "|              | 을 저하시킨다.                                            |                                    |\n",
            "|              | Condenser Shell에 증류수가                                | 1. 증류수 펌프의 작동이 불량하다.  |\n",
            "|              | 고여 있다                                                 | 2. 증류수 Line이 막혔다.           |\n",
            "|              | Heater에 Scale이 많이                                     | Heater의 Heating Coil을 소제한다.  |\n",
            "|              | 퇴적 되어 있다.                                           |                                    |\n",
            "|              | Mesh Separator가 막혔다.                                  | 점검 및 소제한다.                  |\n",
            "|              | Chamber 내의 온도가                                       | 1. 급수온도가 낮다.                |\n",
            "|              | 비정상이다.                                               | 2. 급수량이 부족하다.              |\n",
            "|              |                                                           | 3. Heater 내부에 Air가 있다.       |[Image Found on Page 17][Image Found on Page 18]\n",
            "\n",
            "\n",
            "--- 질문 ---\n",
            "조수량이 너무 적게 나옵니다. 어떤 순서로 확인해봐야 할까요?\n",
            "\n",
            "답변:\n",
            "\n",
            "---모델 답변---\n",
            "조수량이 부족한 경우, '조수기 기술 매뉴얼'에 근거하여 다음 순서로 점검 및 조치를 취할 수 있습니다.\n",
            "\n",
            "---\n",
            "\n",
            "### 조수량 부족 시 점검 및 조치 순서\n",
            "\n",
            "조수량 부족은 주로 냉각 능력 저하, 가열 불량, 또는 유체 이송 문제로 인해 발생합니다. 다음 항목들을 순서대로 확인하십시오.\n",
            "\n",
            "#### 1. 에어 및 펌프 관련 문제 (냉각 능력 저하)\n",
            "\n",
            "| 원 인 | 대 책 | 근거 문서 |\n",
            "| :--- | :--- | :--- |\n",
            "| 냉각 튜브(Cooling Tube) 내에 혼입된 Air가 콘덴서의 냉각능력을 저하시킨다. | **Air를 배출**합니다. | 관련 문서 #3 |\n",
            "| 콘덴서 쉘(Shell)에 증류수가 고여 있다. | 1. **증류수 펌프의 작동이 불량**한지 확인합니다. 2. **증류수 Line이 막혔는지** 확인합니다. | 관련 문서 #3 |\n",
            "| 콘덴서 냉각해수 유량이 부족하다. | 냉각해수 유량을 증가시켜 냉각 불충분 문제를 해소합니다. | 관련 문서 #1 |\n",
            "\n",
            "#### 2. 열 교환 및 온도 조절 문제\n",
            "\n",
            "증발실(Chamber) 내의 온도가 비정상적으로 낮은 경우 조수량이 부족할 수 있습니다.\n",
            "\n",
            "| 원 인 | 대 책 | 근거 문서 |\n",
            "| :--- | :--- | :--- |\n",
            "| 챔버 내의 온도가 비정상이다. | 1. **급수 온도**가 낮은지 확인합니다. 2. **급수량이 부족**하지 않은지 확인합니다. 3. **히터(Heater) 내부에 Air**가 있는지 확인합니다. | 관련 문서 #3 |\n",
            "| 증발 온도가 낮다. (특히 해수 온도가 낮은 지역 항해 시) | 1. **Vacuum Breaker V/V를 약간 열어** 진공을 떨어뜨려 온도를 올립니다. 2. **콘덴서 냉각 해수량을 감소시켜** 온도를 조절합니다. | 관련 문서 #2 |\n",
            "\n",
            "#### 3. 스케일 및 오염 문제\n",
            "\n",
            "열전달 효율을 저해하는 스케일이나 이물질이 있는지 확인하고 제거해야 합니다.\n",
            "\n",
            "| 원 인 | 대 책 | 근거 문서 |\n",
            "| :--- | :--- | :--- |\n",
            "| 히터(Heater)에 스케일이 많이 퇴적되어 있다. | **Heater의 Heating Coil을 소제**합니다. | 관련 문서 #3 |\n",
            "| 메쉬 분리기(Mesh Separator)가 막혔다. | **점검 및 소제**합니다. | 관련 문서 #3 |\n",
            "| (추가 점검) | 분리기 상부 커버와 열교환기 하부 커버를 열어 **튜브 내부 스케일** 및 내부 코팅 박리 여부를 정기적으로 점검합니다. | 관련 문서 #1 |\n",
            "\n",
            "#### 4. 운전 데이터 확인\n",
            "\n",
            "정기적으로 운전 데이터를 기록하여 조수기(FWG)의 이상 징후를 조기에 발견할 수 있습니다. 특히 콘덴서 냉각해수 입출구 온도차를 기록하여 냉각수량 조절의 근거로 사용해야 합니다. (관련 문서 #1)\n"
          ]
        }
      ],
      "source": [
        "import google.generativeai as genai\n",
        "import faiss.contrib.torch_utils\n",
        "\n",
        "\n",
        "def search_and_answer(query, embedding_model, top_k=3):\n",
        "\n",
        "    # 1. 사용자 질문 임베딩\n",
        "    query_vector = embedding_model.encode([query], prompt_name='query', convert_to_tensor=True, device=device)\n",
        "\n",
        "    # 2. FAISS 인덱스에서 가장 관련 있는 섹션 K개 검색\n",
        "    D, I = gpu_index.search(query_vector, top_k)\n",
        "\n",
        "    # 3. 검색된 관련 문서 내용 취합\n",
        "    retrieved_docs = [chunks[i] for i in I[0]]\n",
        "\n",
        "    context = \"\"\n",
        "    for i, doc in enumerate(retrieved_docs):\n",
        "        context += f\"--- 관련 문서 #{i+1} (제목: {doc['header']}) ---\\n\"\n",
        "        context += doc['content']\n",
        "        context += \"\\n\\n\"\n",
        "\n",
        "    # 4. 프롬프트 생성\n",
        "    prompt = f\"\"\"\n",
        "당신은 '조수기 기술 매뉴얼' 전문가입니다.\n",
        "주어진 관련 문서를 바탕으로 사용자의 질문에 대해 한국어로 답변해주세요.\n",
        "\n",
        "--- 관련 문서 ---\n",
        "{context}\n",
        "--- 질문 ---\n",
        "{query}\n",
        "\n",
        "답변:\n",
        "\"\"\"\n",
        "\n",
        "    print(\"--- 최종 프롬프트 ---\")\n",
        "    print(prompt)\n",
        "\n",
        "    GOOGLE_API_KEY=\"\"\n",
        "\n",
        "    genai.configure(api_key=GOOGLE_API_KEY)\n",
        "\n",
        "    LLM = genai.GenerativeModel('gemini-flash-latest')\n",
        "\n",
        "    print(\"---모델 답변---\")\n",
        "\n",
        "    response = LLM.generate_content(prompt)\n",
        "\n",
        "    print(response.text)\n",
        "\n",
        "\n",
        "# 5. LLM 실행\n",
        "user_question = \"조수량이 너무 적게 나옵니다. 어떤 순서로 확인해봐야 할까요?\"\n",
        "search_and_answer(user_question, embedding_model)"
      ]
    }
  ],
  "metadata": {
    "accelerator": "GPU",
    "colab": {
      "gpuType": "T4",
      "provenance": []
    },
    "kernelspec": {
      "display_name": "Python 3",
      "name": "python3"
    },
    "language_info": {
      "name": "python"
    }
  },
  "nbformat": 4,
  "nbformat_minor": 0
}
